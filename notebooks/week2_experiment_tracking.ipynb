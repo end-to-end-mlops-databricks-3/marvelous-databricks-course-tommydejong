{
 "cells": [
  {
   "cell_type": "code",
   "execution_count": 0,
   "metadata": {
    "application/vnd.databricks.v1+cell": {
     "cellMetadata": {
      "byteLimit": 2048000,
      "rowLimit": 10000
     },
     "inputWidgets": {},
     "nuid": "a07fab2a-0a3e-440e-a64e-5896d54b99d7",
     "showTitle": false,
     "tableResultSettingsMap": {},
     "title": ""
    }
   },
   "outputs": [],
   "source": [
    "%pip install -e ..\n",
    "%pip install marvelous@git+https://github.com/end-to-end-mlops-databricks-3/marvelous@0.1.0"
   ]
  },
  {
   "cell_type": "code",
   "execution_count": 0,
   "metadata": {
    "application/vnd.databricks.v1+cell": {
     "cellMetadata": {
      "byteLimit": 2048000,
      "rowLimit": 10000
     },
     "inputWidgets": {},
     "nuid": "726ed775-b6bc-4623-a8fb-4591e0f0037e",
     "showTitle": false,
     "tableResultSettingsMap": {},
     "title": ""
    }
   },
   "outputs": [],
   "source": [
    "%restart_python"
   ]
  },
  {
   "cell_type": "code",
   "execution_count": 0,
   "metadata": {
    "application/vnd.databricks.v1+cell": {
     "cellMetadata": {
      "byteLimit": 2048000,
      "rowLimit": 10000
     },
     "inputWidgets": {},
     "nuid": "fbd8d019-5140-4057-ac4e-85097461d9d5",
     "showTitle": false,
     "tableResultSettingsMap": {},
     "title": ""
    }
   },
   "outputs": [],
   "source": [
    "# Databricks notebook source\n",
    "\n",
    "from pyspark.sql import SparkSession\n",
    "import mlflow\n",
    "\n",
    "import sys\n",
    "sys.path.append('../src/')\n",
    "\n",
    "from fifa_players.config import ProjectConfig\n",
    "from sklearn.compose import ColumnTransformer\n",
    "from sklearn.pipeline import Pipeline\n",
    "from sklearn.preprocessing import OneHotEncoder\n",
    "from lightgbm import LGBMRegressor\n",
    "from mlflow.models import infer_signature\n",
    "from marvelous.common import is_databricks\n",
    "from dotenv import load_dotenv\n",
    "import os\n",
    "from mlflow import MlflowClient\n",
    "import pandas as pd\n",
    "from fifa_players import __version__\n",
    "from mlflow.utils.environment import _mlflow_conda_env\n",
    "\n",
    "\n",
    "# COMMAND ----------\n",
    "if not is_databricks():\n",
    "    load_dotenv()\n",
    "    profile = os.environ[\"PROFILE\"]\n",
    "    mlflow.set_tracking_uri(f\"databricks://{profile}\")\n",
    "    mlflow.set_registry_uri(f\"databricks-uc://{profile}\")\n",
    "\n",
    "\n",
    "config = ProjectConfig.from_yaml(config_path=\"../project_config.yml\", env=\"dev\")\n",
    "\n",
    "# COMMAND ----------\n",
    "spark = SparkSession.builder.getOrCreate()\n",
    "\n",
    "train_set = spark.table(f\"{config.catalog_name}.{config.schema_name}.train_set\").toPandas()\n",
    "X_train = train_set[config.num_features + config.cat_features]\n",
    "y_train = train_set[config.target]\n",
    "\n",
    "# COMMAND ----------\n",
    "\n",
    "pipeline = Pipeline(\n",
    "        steps=[(\"preprocessor\", ColumnTransformer(\n",
    "            transformers=[(\"cat\", OneHotEncoder(handle_unknown=\"ignore\"),\n",
    "                           config.cat_features)],\n",
    "            remainder=\"passthrough\")\n",
    "            ),\n",
    "               (\"regressor\", LGBMRegressor(**config.parameters))]\n",
    "        )\n",
    "\n",
    "pipeline.fit(X_train, y_train)\n",
    "\n",
    "# COMMAND ----------\n",
    "mlflow.set_experiment(\"/Shared/fifa-players-model\")\n",
    "with mlflow.start_run(run_name=\"fifa-players-model\",\n",
    "                      tags={\"git_sha\": \"1234567890abcd\",\n",
    "                            \"branch\": \"week2\"},\n",
    "                            description=\"fifa players run for model logging\") as run:\n",
    "    # Log parameters and metrics\n",
    "    run_id = run.info.run_id\n",
    "    mlflow.log_param(\"model_type\", \"LightGBM with preprocessing\")\n",
    "    mlflow.log_params(config.parameters)\n",
    "\n",
    "    # Log the model\n",
    "    signature = infer_signature(model_input=X_train, model_output=pipeline.predict(X_train))\n",
    "    mlflow.sklearn.log_model(\n",
    "        sk_model=pipeline, artifact_path=\"lightgbm-pipeline-model\", signature=signature\n",
    "    )\n",
    "\n",
    "# COMMAND ----------\n",
    "# Load the model using the alias and test predictions - not recommended!\n",
    "# This may be working in a notebook but will fail on the endpoint\n",
    "artifact_uri = mlflow.get_run(run_id=run_id).to_dictionary()[\"info\"][\"artifact_uri\"]\n",
    "\n",
    "\n",
    "# COMMAND ----------\n",
    "model_name = f\"{config.catalog_name}.{config.schema_name}.fifa_players\"\n",
    "model_version = mlflow.register_model(\n",
    "    model_uri=f'runs:/{run_id}/lightgbm-pipeline-model',\n",
    "    name=model_name,\n",
    "    tags={\"git_sha\": \"1234567890abcd\"})\n",
    "\n",
    "# COMMAND ----------\n",
    "# only searching by name is supported\n",
    "v = mlflow.search_model_versions(\n",
    "    filter_string=f\"name='{model_name}'\")\n",
    "print(v[0].__dict__)\n",
    "\n",
    "# COMMAND ----------\n",
    "client = MlflowClient()\n",
    "\n",
    "# COMMAND ----------\n",
    "# let's set latest-model alias instead\n",
    "\n",
    "client.set_registered_model_alias(\n",
    "    name=model_name,\n",
    "    alias=\"latest-model\",\n",
    "    version = model_version.version)\n",
    "\n",
    "# COMMAND ----------\n",
    "model_uri = f\"models:/{model_name}@latest-model\"\n",
    "sklearn_pipeline = mlflow.sklearn.load_model(model_uri)\n",
    "predictions = sklearn_pipeline.predict(X_train[0:1])\n",
    "print(predictions)"
   ]
  }
 ],
 "metadata": {
  "application/vnd.databricks.v1+notebook": {
   "computePreferences": null,
   "dashboards": [],
   "environmentMetadata": {
    "base_environment": "",
    "environment_version": "2"
   },
   "inputWidgetPreferences": null,
   "language": "python",
   "notebookMetadata": {
    "pythonIndentUnit": 4
   },
   "notebookName": "week2_experiment_tracking",
   "widgets": {}
  },
  "language_info": {
   "name": "python"
  }
 },
 "nbformat": 4,
 "nbformat_minor": 0
}
