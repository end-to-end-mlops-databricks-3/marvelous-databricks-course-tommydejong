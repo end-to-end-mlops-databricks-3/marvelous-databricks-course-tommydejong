{
 "cells": [
  {
   "cell_type": "code",
   "execution_count": 0,
   "metadata": {
    "application/vnd.databricks.v1+cell": {
     "cellMetadata": {
      "byteLimit": 2048000,
      "rowLimit": 10000
     },
     "inputWidgets": {},
     "nuid": "ae525c2c-d310-458f-be9f-179fc1d36f8e",
     "showTitle": false,
     "tableResultSettingsMap": {},
     "title": ""
    }
   },
   "outputs": [],
   "source": [
    "%pip install marvelous@git+https://github.com/end-to-end-mlops-databricks-3/marvelous@0.1.0"
   ]
  },
  {
   "cell_type": "code",
   "execution_count": 0,
   "metadata": {
    "application/vnd.databricks.v1+cell": {
     "cellMetadata": {
      "byteLimit": 2048000,
      "rowLimit": 10000
     },
     "inputWidgets": {},
     "nuid": "35560d99-c546-47dd-a3cc-712921950a45",
     "showTitle": false,
     "tableResultSettingsMap": {},
     "title": ""
    }
   },
   "outputs": [],
   "source": [
    "%restart_python"
   ]
  },
  {
   "cell_type": "code",
   "execution_count": 0,
   "metadata": {
    "application/vnd.databricks.v1+cell": {
     "cellMetadata": {
      "byteLimit": 2048000,
      "rowLimit": 10000
     },
     "inputWidgets": {},
     "nuid": "c65ee62d-f83c-4952-8734-ee8c4be3e12d",
     "showTitle": false,
     "tableResultSettingsMap": {},
     "title": ""
    }
   },
   "outputs": [],
   "source": [
    "# Databricks notebook source\n",
    "\n",
    "import mlflow\n",
    "import os\n",
    "import sys\n",
    "sys.path.append('../src/')\n",
    "\n",
    "from pyspark.sql import SparkSession\n",
    "\n",
    "from fifa_players.config import ProjectConfig, Tags\n",
    "from fifa_players.models.basic_model import BasicModel\n",
    "\n",
    "from dotenv import load_dotenv\n",
    "from marvelous.common import is_databricks\n",
    "\n",
    "# COMMAND ----------\n",
    "# If you have DEFAULT profile and are logged in with DEFAULT profile,\n",
    "# skip these lines\n",
    "\n",
    "if not is_databricks():\n",
    "    load_dotenv()\n",
    "    profile = os.environ[\"PROFILE\"]\n",
    "    mlflow.set_tracking_uri(f\"databricks://{profile}\")\n",
    "    mlflow.set_registry_uri(f\"databricks-uc://{profile}\")\n",
    "\n",
    "\n",
    "config = ProjectConfig.from_yaml(config_path=\"../project_config.yml\", env=\"prd\")\n",
    "spark = SparkSession.builder.getOrCreate()\n",
    "tags = Tags(**{\"git_sha\": \"abcd12345\", \"branch\": \"week2\"})\n",
    "\n",
    "# COMMAND ----------\n",
    "# Initialize model with the config path\n",
    "basic_model = BasicModel(config=config, tags=tags, spark=spark)\n",
    "\n",
    "# COMMAND ----------\n",
    "basic_model.load_data()\n",
    "basic_model.prepare_features()\n",
    "\n",
    "# COMMAND ----------\n",
    "# Train + log the model (runs everything including MLflow logging)\n",
    "basic_model.train()\n",
    "basic_model.log_model()\n",
    "\n",
    "# COMMAND ----------\n",
    "run_id = mlflow.search_runs(\n",
    "    experiment_names=[\"/Shared/house-prices-basic\"], filter_string=\"tags.branch='week2'\"\n",
    ").run_id[0]\n",
    "\n",
    "model = mlflow.sklearn.load_model(f\"runs:/{run_id}/lightgbm-pipeline-model\")\n",
    "\n",
    "# COMMAND ----------\n",
    "# Retrieve dataset for the current run\n",
    "basic_model.retrieve_current_run_dataset()\n",
    "\n",
    "# COMMAND ----------\n",
    "# Retrieve metadata for the current run\n",
    "basic_model.retrieve_current_run_metadata()\n",
    "\n",
    "# COMMAND ----------\n",
    "# Register model\n",
    "basic_model.register_model()\n",
    "\n",
    "# COMMAND ----------\n",
    "# Predict on the test set\n",
    "\n",
    "test_set = spark.table(f\"{config.catalog_name}.{config.schema_name}.test_set\").limit(10)\n",
    "\n",
    "X_test = test_set.drop(config.target).toPandas()\n",
    "\n",
    "predictions_df = basic_model.load_latest_model_and_predict(X_test)\n",
    "# COMMAND ----------"
   ]
  }
 ],
 "metadata": {
  "application/vnd.databricks.v1+notebook": {
   "computePreferences": null,
   "dashboards": [],
   "environmentMetadata": {
    "base_environment": "",
    "environment_version": "2"
   },
   "inputWidgetPreferences": null,
   "language": "python",
   "notebookMetadata": {
    "pythonIndentUnit": 4
   },
   "notebookName": "week2_train_register_basic_model.py",
   "widgets": {}
  },
  "language_info": {
   "name": "python"
  }
 },
 "nbformat": 4,
 "nbformat_minor": 0
}
