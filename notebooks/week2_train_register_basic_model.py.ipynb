{
 "cells": [
  {
   "cell_type": "code",
   "execution_count": 1,
   "metadata": {
    "application/vnd.databricks.v1+cell": {
     "cellMetadata": {
      "byteLimit": 2048000,
      "rowLimit": 10000
     },
     "inputWidgets": {},
     "nuid": "ae525c2c-d310-458f-be9f-179fc1d36f8e",
     "showTitle": false,
     "tableResultSettingsMap": {},
     "title": ""
    }
   },
   "outputs": [
    {
     "name": "stdout",
     "output_type": "stream",
     "text": [
      "Obtaining file:///Users/tommy/Git/marvelous-databricks-course-tommydejong\n",
      "  Installing build dependencies ... \u001b[?25ldone\n",
      "\u001b[?25h  Checking if build backend supports build_editable ... \u001b[?25ldone\n",
      "\u001b[?25h  Getting requirements to build editable ... \u001b[?25ldone\n",
      "\u001b[?25h  Preparing editable metadata (pyproject.toml) ... \u001b[?25ldone\n",
      "\u001b[?25hRequirement already satisfied: mlflow==2.17.0 in /Users/tommy/Git/marvelous-databricks-course-tommydejong/.venv/lib/python3.11/site-packages (from fifa-players==0.0.1) (2.17.0)\n",
      "Requirement already satisfied: cffi==1.17.1 in /Users/tommy/Git/marvelous-databricks-course-tommydejong/.venv/lib/python3.11/site-packages (from fifa-players==0.0.1) (1.17.1)\n",
      "Requirement already satisfied: cloudpickle==3.1.0 in /Users/tommy/Git/marvelous-databricks-course-tommydejong/.venv/lib/python3.11/site-packages (from fifa-players==0.0.1) (3.1.0)\n",
      "Requirement already satisfied: matplotlib==3.9.2 in /Users/tommy/Git/marvelous-databricks-course-tommydejong/.venv/lib/python3.11/site-packages (from fifa-players==0.0.1) (3.9.2)\n",
      "Requirement already satisfied: numpy==1.26.4 in /Users/tommy/Git/marvelous-databricks-course-tommydejong/.venv/lib/python3.11/site-packages (from fifa-players==0.0.1) (1.26.4)\n",
      "Requirement already satisfied: pandas==2.2.3 in /Users/tommy/Git/marvelous-databricks-course-tommydejong/.venv/lib/python3.11/site-packages (from fifa-players==0.0.1) (2.2.3)\n",
      "Requirement already satisfied: psutil==6.0.0 in /Users/tommy/Git/marvelous-databricks-course-tommydejong/.venv/lib/python3.11/site-packages (from fifa-players==0.0.1) (6.0.0)\n",
      "Requirement already satisfied: pyarrow==14.0.1 in /Users/tommy/Git/marvelous-databricks-course-tommydejong/.venv/lib/python3.11/site-packages (from fifa-players==0.0.1) (14.0.1)\n",
      "Requirement already satisfied: scikit-learn==1.5.2 in /Users/tommy/Git/marvelous-databricks-course-tommydejong/.venv/lib/python3.11/site-packages (from fifa-players==0.0.1) (1.5.2)\n",
      "Requirement already satisfied: lightgbm==4.5.0 in /Users/tommy/Git/marvelous-databricks-course-tommydejong/.venv/lib/python3.11/site-packages (from fifa-players==0.0.1) (4.5.0)\n",
      "Requirement already satisfied: scipy==1.14.1 in /Users/tommy/Git/marvelous-databricks-course-tommydejong/.venv/lib/python3.11/site-packages (from fifa-players==0.0.1) (1.14.1)\n",
      "Requirement already satisfied: databricks-feature-engineering==0.6 in /Users/tommy/Git/marvelous-databricks-course-tommydejong/.venv/lib/python3.11/site-packages (from fifa-players==0.0.1) (0.6.0)\n",
      "Requirement already satisfied: databricks-feature-lookup==1.2.0 in /Users/tommy/Git/marvelous-databricks-course-tommydejong/.venv/lib/python3.11/site-packages (from fifa-players==0.0.1) (1.2.0)\n",
      "Requirement already satisfied: databricks-sdk==0.32.0 in /Users/tommy/Git/marvelous-databricks-course-tommydejong/.venv/lib/python3.11/site-packages (from fifa-players==0.0.1) (0.32.0)\n",
      "Requirement already satisfied: pydantic==2.9.2 in /Users/tommy/Git/marvelous-databricks-course-tommydejong/.venv/lib/python3.11/site-packages (from fifa-players==0.0.1) (2.9.2)\n",
      "Requirement already satisfied: loguru==0.7.3 in /Users/tommy/Git/marvelous-databricks-course-tommydejong/.venv/lib/python3.11/site-packages (from fifa-players==0.0.1) (0.7.3)\n",
      "Requirement already satisfied: python-dotenv>=1.1.0 in /Users/tommy/Git/marvelous-databricks-course-tommydejong/.venv/lib/python3.11/site-packages (from fifa-players==0.0.1) (1.1.0)\n",
      "Requirement already satisfied: pycparser in /Users/tommy/Git/marvelous-databricks-course-tommydejong/.venv/lib/python3.11/site-packages (from cffi==1.17.1->fifa-players==0.0.1) (2.22)\n",
      "Requirement already satisfied: mlflow-skinny<3,>=2.11.0 in /Users/tommy/Git/marvelous-databricks-course-tommydejong/.venv/lib/python3.11/site-packages (from mlflow-skinny[databricks]<3,>=2.11.0->databricks-feature-engineering==0.6->fifa-players==0.0.1) (2.17.0)\n",
      "Requirement already satisfied: pyyaml<7,>=6 in /Users/tommy/Git/marvelous-databricks-course-tommydejong/.venv/lib/python3.11/site-packages (from databricks-feature-engineering==0.6->fifa-players==0.0.1) (6.0.2)\n",
      "Requirement already satisfied: boto3<2,>=1.16.7 in /Users/tommy/Git/marvelous-databricks-course-tommydejong/.venv/lib/python3.11/site-packages (from databricks-feature-engineering==0.6->fifa-players==0.0.1) (1.38.10)\n",
      "Requirement already satisfied: dbl-tempo<1,>=0.1.26 in /Users/tommy/Git/marvelous-databricks-course-tommydejong/.venv/lib/python3.11/site-packages (from databricks-feature-engineering==0.6->fifa-players==0.0.1) (0.1.29)\n",
      "Requirement already satisfied: azure-cosmos==4.3.1 in /Users/tommy/Git/marvelous-databricks-course-tommydejong/.venv/lib/python3.11/site-packages (from databricks-feature-engineering==0.6->fifa-players==0.0.1) (4.3.1)\n",
      "Requirement already satisfied: protobuf<5,>=3.12.0 in /Users/tommy/Git/marvelous-databricks-course-tommydejong/.venv/lib/python3.11/site-packages (from databricks-feature-engineering==0.6->fifa-players==0.0.1) (4.25.7)\n",
      "Requirement already satisfied: flask<3,>=1.1.2 in /Users/tommy/Git/marvelous-databricks-course-tommydejong/.venv/lib/python3.11/site-packages (from databricks-feature-engineering==0.6->fifa-players==0.0.1) (2.3.3)\n",
      "Requirement already satisfied: sqlparse<1,>=0.4.0 in /Users/tommy/Git/marvelous-databricks-course-tommydejong/.venv/lib/python3.11/site-packages (from databricks-feature-engineering==0.6->fifa-players==0.0.1) (0.5.3)\n",
      "Requirement already satisfied: azure-core<2.0.0,>=1.23.0 in /Users/tommy/Git/marvelous-databricks-course-tommydejong/.venv/lib/python3.11/site-packages (from azure-cosmos==4.3.1->databricks-feature-engineering==0.6->fifa-players==0.0.1) (1.34.0)\n",
      "Requirement already satisfied: sqlalchemy>=1.4.8 in /Users/tommy/Git/marvelous-databricks-course-tommydejong/.venv/lib/python3.11/site-packages (from databricks-feature-lookup==1.2.0->fifa-players==0.0.1) (2.0.40)\n",
      "Requirement already satisfied: pymysql>=1.0.2 in /Users/tommy/Git/marvelous-databricks-course-tommydejong/.venv/lib/python3.11/site-packages (from databricks-feature-lookup==1.2.0->fifa-players==0.0.1) (1.1.1)\n",
      "Requirement already satisfied: requests==2.* in /Users/tommy/Git/marvelous-databricks-course-tommydejong/.venv/lib/python3.11/site-packages (from databricks-feature-lookup==1.2.0->fifa-players==0.0.1) (2.32.3)\n",
      "Requirement already satisfied: google-auth~=2.0 in /Users/tommy/Git/marvelous-databricks-course-tommydejong/.venv/lib/python3.11/site-packages (from databricks-sdk==0.32.0->fifa-players==0.0.1) (2.40.1)\n",
      "Requirement already satisfied: contourpy>=1.0.1 in /Users/tommy/Git/marvelous-databricks-course-tommydejong/.venv/lib/python3.11/site-packages (from matplotlib==3.9.2->fifa-players==0.0.1) (1.3.2)\n",
      "Requirement already satisfied: cycler>=0.10 in /Users/tommy/Git/marvelous-databricks-course-tommydejong/.venv/lib/python3.11/site-packages (from matplotlib==3.9.2->fifa-players==0.0.1) (0.12.1)\n",
      "Requirement already satisfied: fonttools>=4.22.0 in /Users/tommy/Git/marvelous-databricks-course-tommydejong/.venv/lib/python3.11/site-packages (from matplotlib==3.9.2->fifa-players==0.0.1) (4.57.0)\n",
      "Requirement already satisfied: kiwisolver>=1.3.1 in /Users/tommy/Git/marvelous-databricks-course-tommydejong/.venv/lib/python3.11/site-packages (from matplotlib==3.9.2->fifa-players==0.0.1) (1.4.8)\n",
      "Requirement already satisfied: packaging>=20.0 in /Users/tommy/Git/marvelous-databricks-course-tommydejong/.venv/lib/python3.11/site-packages (from matplotlib==3.9.2->fifa-players==0.0.1) (24.2)\n",
      "Requirement already satisfied: pillow>=8 in /Users/tommy/Git/marvelous-databricks-course-tommydejong/.venv/lib/python3.11/site-packages (from matplotlib==3.9.2->fifa-players==0.0.1) (11.2.1)\n",
      "Requirement already satisfied: pyparsing>=2.3.1 in /Users/tommy/Git/marvelous-databricks-course-tommydejong/.venv/lib/python3.11/site-packages (from matplotlib==3.9.2->fifa-players==0.0.1) (3.2.3)\n",
      "Requirement already satisfied: python-dateutil>=2.7 in /Users/tommy/Git/marvelous-databricks-course-tommydejong/.venv/lib/python3.11/site-packages (from matplotlib==3.9.2->fifa-players==0.0.1) (2.9.0.post0)\n",
      "Requirement already satisfied: alembic!=1.10.0,<2 in /Users/tommy/Git/marvelous-databricks-course-tommydejong/.venv/lib/python3.11/site-packages (from mlflow==2.17.0->fifa-players==0.0.1) (1.15.2)\n",
      "Requirement already satisfied: docker<8,>=4.0.0 in /Users/tommy/Git/marvelous-databricks-course-tommydejong/.venv/lib/python3.11/site-packages (from mlflow==2.17.0->fifa-players==0.0.1) (7.1.0)\n",
      "Requirement already satisfied: graphene<4 in /Users/tommy/Git/marvelous-databricks-course-tommydejong/.venv/lib/python3.11/site-packages (from mlflow==2.17.0->fifa-players==0.0.1) (3.4.3)\n",
      "Requirement already satisfied: markdown<4,>=3.3 in /Users/tommy/Git/marvelous-databricks-course-tommydejong/.venv/lib/python3.11/site-packages (from mlflow==2.17.0->fifa-players==0.0.1) (3.8)\n",
      "Requirement already satisfied: Jinja2<4,>=2.11 in /Users/tommy/Git/marvelous-databricks-course-tommydejong/.venv/lib/python3.11/site-packages (from mlflow==2.17.0->fifa-players==0.0.1) (3.1.6)\n",
      "Requirement already satisfied: gunicorn<24 in /Users/tommy/Git/marvelous-databricks-course-tommydejong/.venv/lib/python3.11/site-packages (from mlflow==2.17.0->fifa-players==0.0.1) (23.0.0)\n",
      "Requirement already satisfied: cachetools<6,>=5.0.0 in /Users/tommy/Git/marvelous-databricks-course-tommydejong/.venv/lib/python3.11/site-packages (from mlflow-skinny<3,>=2.11.0->mlflow-skinny[databricks]<3,>=2.11.0->databricks-feature-engineering==0.6->fifa-players==0.0.1) (5.5.2)\n",
      "Requirement already satisfied: click<9,>=7.0 in /Users/tommy/Git/marvelous-databricks-course-tommydejong/.venv/lib/python3.11/site-packages (from mlflow-skinny<3,>=2.11.0->mlflow-skinny[databricks]<3,>=2.11.0->databricks-feature-engineering==0.6->fifa-players==0.0.1) (8.1.8)\n",
      "Requirement already satisfied: gitpython<4,>=3.1.9 in /Users/tommy/Git/marvelous-databricks-course-tommydejong/.venv/lib/python3.11/site-packages (from mlflow-skinny<3,>=2.11.0->mlflow-skinny[databricks]<3,>=2.11.0->databricks-feature-engineering==0.6->fifa-players==0.0.1) (3.1.44)\n",
      "Requirement already satisfied: importlib-metadata!=4.7.0,<9,>=3.7.0 in /Users/tommy/Git/marvelous-databricks-course-tommydejong/.venv/lib/python3.11/site-packages (from mlflow-skinny<3,>=2.11.0->mlflow-skinny[databricks]<3,>=2.11.0->databricks-feature-engineering==0.6->fifa-players==0.0.1) (8.6.1)\n",
      "Requirement already satisfied: opentelemetry-api<3,>=1.9.0 in /Users/tommy/Git/marvelous-databricks-course-tommydejong/.venv/lib/python3.11/site-packages (from mlflow-skinny<3,>=2.11.0->mlflow-skinny[databricks]<3,>=2.11.0->databricks-feature-engineering==0.6->fifa-players==0.0.1) (1.32.1)\n",
      "Requirement already satisfied: opentelemetry-sdk<3,>=1.9.0 in /Users/tommy/Git/marvelous-databricks-course-tommydejong/.venv/lib/python3.11/site-packages (from mlflow-skinny<3,>=2.11.0->mlflow-skinny[databricks]<3,>=2.11.0->databricks-feature-engineering==0.6->fifa-players==0.0.1) (1.32.1)\n",
      "Requirement already satisfied: pytz>=2020.1 in /Users/tommy/Git/marvelous-databricks-course-tommydejong/.venv/lib/python3.11/site-packages (from pandas==2.2.3->fifa-players==0.0.1) (2025.2)\n",
      "Requirement already satisfied: tzdata>=2022.7 in /Users/tommy/Git/marvelous-databricks-course-tommydejong/.venv/lib/python3.11/site-packages (from pandas==2.2.3->fifa-players==0.0.1) (2025.2)\n",
      "Requirement already satisfied: joblib>=1.2.0 in /Users/tommy/Git/marvelous-databricks-course-tommydejong/.venv/lib/python3.11/site-packages (from scikit-learn==1.5.2->fifa-players==0.0.1) (1.5.0)\n",
      "Requirement already satisfied: threadpoolctl>=3.1.0 in /Users/tommy/Git/marvelous-databricks-course-tommydejong/.venv/lib/python3.11/site-packages (from scikit-learn==1.5.2->fifa-players==0.0.1) (3.6.0)\n",
      "Requirement already satisfied: annotated-types>=0.6.0 in /Users/tommy/Git/marvelous-databricks-course-tommydejong/.venv/lib/python3.11/site-packages (from pydantic==2.9.2->fifa-players==0.0.1) (0.7.0)\n",
      "Requirement already satisfied: pydantic-core==2.23.4 in /Users/tommy/Git/marvelous-databricks-course-tommydejong/.venv/lib/python3.11/site-packages (from pydantic==2.9.2->fifa-players==0.0.1) (2.23.4)\n",
      "Requirement already satisfied: typing-extensions>=4.6.1 in /Users/tommy/Git/marvelous-databricks-course-tommydejong/.venv/lib/python3.11/site-packages (from pydantic==2.9.2->fifa-players==0.0.1) (4.13.2)\n",
      "Requirement already satisfied: Mako in /Users/tommy/Git/marvelous-databricks-course-tommydejong/.venv/lib/python3.11/site-packages (from alembic!=1.10.0,<2->mlflow==2.17.0->fifa-players==0.0.1) (1.3.10)\n",
      "Requirement already satisfied: six>=1.11.0 in /Users/tommy/Git/marvelous-databricks-course-tommydejong/.venv/lib/python3.11/site-packages (from azure-core<2.0.0,>=1.23.0->azure-cosmos==4.3.1->databricks-feature-engineering==0.6->fifa-players==0.0.1) (1.17.0)\n",
      "Requirement already satisfied: botocore<1.39.0,>=1.38.10 in /Users/tommy/Git/marvelous-databricks-course-tommydejong/.venv/lib/python3.11/site-packages (from boto3<2,>=1.16.7->databricks-feature-engineering==0.6->fifa-players==0.0.1) (1.38.10)\n",
      "Requirement already satisfied: jmespath<2.0.0,>=0.7.1 in /Users/tommy/Git/marvelous-databricks-course-tommydejong/.venv/lib/python3.11/site-packages (from boto3<2,>=1.16.7->databricks-feature-engineering==0.6->fifa-players==0.0.1) (1.0.1)\n",
      "Requirement already satisfied: s3transfer<0.13.0,>=0.12.0 in /Users/tommy/Git/marvelous-databricks-course-tommydejong/.venv/lib/python3.11/site-packages (from boto3<2,>=1.16.7->databricks-feature-engineering==0.6->fifa-players==0.0.1) (0.12.0)\n",
      "Requirement already satisfied: urllib3!=2.2.0,<3,>=1.25.4 in /Users/tommy/Git/marvelous-databricks-course-tommydejong/.venv/lib/python3.11/site-packages (from botocore<1.39.0,>=1.38.10->boto3<2,>=1.16.7->databricks-feature-engineering==0.6->fifa-players==0.0.1) (2.4.0)\n",
      "Requirement already satisfied: Werkzeug>=2.3.7 in /Users/tommy/Git/marvelous-databricks-course-tommydejong/.venv/lib/python3.11/site-packages (from flask<3,>=1.1.2->databricks-feature-engineering==0.6->fifa-players==0.0.1) (3.1.3)\n",
      "Requirement already satisfied: itsdangerous>=2.1.2 in /Users/tommy/Git/marvelous-databricks-course-tommydejong/.venv/lib/python3.11/site-packages (from flask<3,>=1.1.2->databricks-feature-engineering==0.6->fifa-players==0.0.1) (2.2.0)\n",
      "Requirement already satisfied: blinker>=1.6.2 in /Users/tommy/Git/marvelous-databricks-course-tommydejong/.venv/lib/python3.11/site-packages (from flask<3,>=1.1.2->databricks-feature-engineering==0.6->fifa-players==0.0.1) (1.9.0)\n",
      "Requirement already satisfied: gitdb<5,>=4.0.1 in /Users/tommy/Git/marvelous-databricks-course-tommydejong/.venv/lib/python3.11/site-packages (from gitpython<4,>=3.1.9->mlflow-skinny<3,>=2.11.0->mlflow-skinny[databricks]<3,>=2.11.0->databricks-feature-engineering==0.6->fifa-players==0.0.1) (4.0.12)\n",
      "Requirement already satisfied: smmap<6,>=3.0.1 in /Users/tommy/Git/marvelous-databricks-course-tommydejong/.venv/lib/python3.11/site-packages (from gitdb<5,>=4.0.1->gitpython<4,>=3.1.9->mlflow-skinny<3,>=2.11.0->mlflow-skinny[databricks]<3,>=2.11.0->databricks-feature-engineering==0.6->fifa-players==0.0.1) (5.0.2)\n",
      "Requirement already satisfied: pyasn1-modules>=0.2.1 in /Users/tommy/Git/marvelous-databricks-course-tommydejong/.venv/lib/python3.11/site-packages (from google-auth~=2.0->databricks-sdk==0.32.0->fifa-players==0.0.1) (0.4.2)\n",
      "Requirement already satisfied: rsa<5,>=3.1.4 in /Users/tommy/Git/marvelous-databricks-course-tommydejong/.venv/lib/python3.11/site-packages (from google-auth~=2.0->databricks-sdk==0.32.0->fifa-players==0.0.1) (4.9.1)\n",
      "Requirement already satisfied: graphql-core<3.3,>=3.1 in /Users/tommy/Git/marvelous-databricks-course-tommydejong/.venv/lib/python3.11/site-packages (from graphene<4->mlflow==2.17.0->fifa-players==0.0.1) (3.2.6)\n",
      "Requirement already satisfied: graphql-relay<3.3,>=3.1 in /Users/tommy/Git/marvelous-databricks-course-tommydejong/.venv/lib/python3.11/site-packages (from graphene<4->mlflow==2.17.0->fifa-players==0.0.1) (3.2.0)\n",
      "Requirement already satisfied: zipp>=3.20 in /Users/tommy/Git/marvelous-databricks-course-tommydejong/.venv/lib/python3.11/site-packages (from importlib-metadata!=4.7.0,<9,>=3.7.0->mlflow-skinny<3,>=2.11.0->mlflow-skinny[databricks]<3,>=2.11.0->databricks-feature-engineering==0.6->fifa-players==0.0.1) (3.21.0)\n",
      "Requirement already satisfied: MarkupSafe>=2.0 in /Users/tommy/Git/marvelous-databricks-course-tommydejong/.venv/lib/python3.11/site-packages (from Jinja2<4,>=2.11->mlflow==2.17.0->fifa-players==0.0.1) (3.0.2)\n",
      "Requirement already satisfied: azure-storage-file-datalake>12 in /Users/tommy/Git/marvelous-databricks-course-tommydejong/.venv/lib/python3.11/site-packages (from mlflow-skinny[databricks]<3,>=2.11.0->databricks-feature-engineering==0.6->fifa-players==0.0.1) (12.20.0)\n",
      "Requirement already satisfied: google-cloud-storage>=1.30.0 in /Users/tommy/Git/marvelous-databricks-course-tommydejong/.venv/lib/python3.11/site-packages (from mlflow-skinny[databricks]<3,>=2.11.0->databricks-feature-engineering==0.6->fifa-players==0.0.1) (3.1.0)\n",
      "Requirement already satisfied: deprecated>=1.2.6 in /Users/tommy/Git/marvelous-databricks-course-tommydejong/.venv/lib/python3.11/site-packages (from opentelemetry-api<3,>=1.9.0->mlflow-skinny<3,>=2.11.0->mlflow-skinny[databricks]<3,>=2.11.0->databricks-feature-engineering==0.6->fifa-players==0.0.1) (1.2.18)\n",
      "Requirement already satisfied: opentelemetry-semantic-conventions==0.53b1 in /Users/tommy/Git/marvelous-databricks-course-tommydejong/.venv/lib/python3.11/site-packages (from opentelemetry-sdk<3,>=1.9.0->mlflow-skinny<3,>=2.11.0->mlflow-skinny[databricks]<3,>=2.11.0->databricks-feature-engineering==0.6->fifa-players==0.0.1) (0.53b1)\n",
      "Requirement already satisfied: charset-normalizer<4,>=2 in /Users/tommy/Git/marvelous-databricks-course-tommydejong/.venv/lib/python3.11/site-packages (from requests==2.*->databricks-feature-lookup==1.2.0->fifa-players==0.0.1) (3.4.2)\n",
      "Requirement already satisfied: idna<4,>=2.5 in /Users/tommy/Git/marvelous-databricks-course-tommydejong/.venv/lib/python3.11/site-packages (from requests==2.*->databricks-feature-lookup==1.2.0->fifa-players==0.0.1) (3.10)\n",
      "Requirement already satisfied: certifi>=2017.4.17 in /Users/tommy/Git/marvelous-databricks-course-tommydejong/.venv/lib/python3.11/site-packages (from requests==2.*->databricks-feature-lookup==1.2.0->fifa-players==0.0.1) (2025.4.26)\n",
      "Requirement already satisfied: pyasn1>=0.1.3 in /Users/tommy/Git/marvelous-databricks-course-tommydejong/.venv/lib/python3.11/site-packages (from rsa<5,>=3.1.4->google-auth~=2.0->databricks-sdk==0.32.0->fifa-players==0.0.1) (0.6.1)\n",
      "Requirement already satisfied: azure-storage-blob>=12.25.1 in /Users/tommy/Git/marvelous-databricks-course-tommydejong/.venv/lib/python3.11/site-packages (from azure-storage-file-datalake>12->mlflow-skinny[databricks]<3,>=2.11.0->databricks-feature-engineering==0.6->fifa-players==0.0.1) (12.25.1)\n",
      "Requirement already satisfied: isodate>=0.6.1 in /Users/tommy/Git/marvelous-databricks-course-tommydejong/.venv/lib/python3.11/site-packages (from azure-storage-file-datalake>12->mlflow-skinny[databricks]<3,>=2.11.0->databricks-feature-engineering==0.6->fifa-players==0.0.1) (0.7.2)\n",
      "Requirement already satisfied: cryptography>=2.1.4 in /Users/tommy/Git/marvelous-databricks-course-tommydejong/.venv/lib/python3.11/site-packages (from azure-storage-blob>=12.25.1->azure-storage-file-datalake>12->mlflow-skinny[databricks]<3,>=2.11.0->databricks-feature-engineering==0.6->fifa-players==0.0.1) (44.0.3)\n",
      "Requirement already satisfied: wrapt<2,>=1.10 in /Users/tommy/Git/marvelous-databricks-course-tommydejong/.venv/lib/python3.11/site-packages (from deprecated>=1.2.6->opentelemetry-api<3,>=1.9.0->mlflow-skinny<3,>=2.11.0->mlflow-skinny[databricks]<3,>=2.11.0->databricks-feature-engineering==0.6->fifa-players==0.0.1) (1.17.2)\n",
      "Requirement already satisfied: google-api-core<3.0.0dev,>=2.15.0 in /Users/tommy/Git/marvelous-databricks-course-tommydejong/.venv/lib/python3.11/site-packages (from google-cloud-storage>=1.30.0->mlflow-skinny[databricks]<3,>=2.11.0->databricks-feature-engineering==0.6->fifa-players==0.0.1) (2.24.2)\n",
      "Requirement already satisfied: google-cloud-core<3.0dev,>=2.4.2 in /Users/tommy/Git/marvelous-databricks-course-tommydejong/.venv/lib/python3.11/site-packages (from google-cloud-storage>=1.30.0->mlflow-skinny[databricks]<3,>=2.11.0->databricks-feature-engineering==0.6->fifa-players==0.0.1) (2.4.3)\n",
      "Requirement already satisfied: google-resumable-media>=2.7.2 in /Users/tommy/Git/marvelous-databricks-course-tommydejong/.venv/lib/python3.11/site-packages (from google-cloud-storage>=1.30.0->mlflow-skinny[databricks]<3,>=2.11.0->databricks-feature-engineering==0.6->fifa-players==0.0.1) (2.7.2)\n",
      "Requirement already satisfied: google-crc32c<2.0dev,>=1.0 in /Users/tommy/Git/marvelous-databricks-course-tommydejong/.venv/lib/python3.11/site-packages (from google-cloud-storage>=1.30.0->mlflow-skinny[databricks]<3,>=2.11.0->databricks-feature-engineering==0.6->fifa-players==0.0.1) (1.7.1)\n",
      "Requirement already satisfied: googleapis-common-protos<2.0.0,>=1.56.2 in /Users/tommy/Git/marvelous-databricks-course-tommydejong/.venv/lib/python3.11/site-packages (from google-api-core<3.0.0dev,>=2.15.0->google-cloud-storage>=1.30.0->mlflow-skinny[databricks]<3,>=2.11.0->databricks-feature-engineering==0.6->fifa-players==0.0.1) (1.70.0)\n",
      "Requirement already satisfied: proto-plus<2.0.0,>=1.22.3 in /Users/tommy/Git/marvelous-databricks-course-tommydejong/.venv/lib/python3.11/site-packages (from google-api-core<3.0.0dev,>=2.15.0->google-cloud-storage>=1.30.0->mlflow-skinny[databricks]<3,>=2.11.0->databricks-feature-engineering==0.6->fifa-players==0.0.1) (1.26.1)\n",
      "Building wheels for collected packages: fifa-players\n",
      "  Building editable for fifa-players (pyproject.toml) ... \u001b[?25ldone\n",
      "\u001b[?25h  Created wheel for fifa-players: filename=fifa_players-0.0.1-0.editable-py3-none-any.whl size=1729 sha256=69d01923a55a1d490b44c77abac520abccc1f9a549aeb7a08dddf36132a7c64b\n",
      "  Stored in directory: /private/var/folders/9h/6psrv7qs3f55f1q8t1s_qcgh0000gn/T/pip-ephem-wheel-cache-g7_2wt0m/wheels/20/55/00/003fb2b8b27756b0d4a1b8e6cd17bbc4e513903f61df41e753\n",
      "Successfully built fifa-players\n",
      "Installing collected packages: fifa-players\n",
      "  Attempting uninstall: fifa-players\n",
      "    Found existing installation: fifa-players 0.0.1\n",
      "    Uninstalling fifa-players-0.0.1:\n",
      "      Successfully uninstalled fifa-players-0.0.1\n",
      "Successfully installed fifa-players-0.0.1\n",
      "Note: you may need to restart the kernel to use updated packages.\n",
      "Collecting marvelous@ git+https://github.com/end-to-end-mlops-databricks-3/marvelous@0.1.0\n",
      "  Cloning https://github.com/end-to-end-mlops-databricks-3/marvelous (to revision 0.1.0) to /private/var/folders/9h/6psrv7qs3f55f1q8t1s_qcgh0000gn/T/pip-install-94ct_nzf/marvelous_a378dc30e7134df9976de4b2185ea6f1\n",
      "  Running command git clone --filter=blob:none --quiet https://github.com/end-to-end-mlops-databricks-3/marvelous /private/var/folders/9h/6psrv7qs3f55f1q8t1s_qcgh0000gn/T/pip-install-94ct_nzf/marvelous_a378dc30e7134df9976de4b2185ea6f1\n",
      "  Resolved https://github.com/end-to-end-mlops-databricks-3/marvelous to commit 7fc6264a3f6c1401662fa2ce0d31972b50d0d0fb\n",
      "  Installing build dependencies ... \u001b[?25ldone\n",
      "\u001b[?25h  Getting requirements to build wheel ... \u001b[?25ldone\n",
      "\u001b[?25h  Preparing metadata (pyproject.toml) ... \u001b[?25ldone\n",
      "\u001b[?25hRequirement already satisfied: requests>=2.32.3 in /Users/tommy/Git/marvelous-databricks-course-tommydejong/.venv/lib/python3.11/site-packages (from marvelous@ git+https://github.com/end-to-end-mlops-databricks-3/marvelous@0.1.0) (2.32.3)\n",
      "Requirement already satisfied: loguru==0.7.3 in /Users/tommy/Git/marvelous-databricks-course-tommydejong/.venv/lib/python3.11/site-packages (from marvelous@ git+https://github.com/end-to-end-mlops-databricks-3/marvelous@0.1.0) (0.7.3)\n",
      "Requirement already satisfied: charset-normalizer<4,>=2 in /Users/tommy/Git/marvelous-databricks-course-tommydejong/.venv/lib/python3.11/site-packages (from requests>=2.32.3->marvelous@ git+https://github.com/end-to-end-mlops-databricks-3/marvelous@0.1.0) (3.4.2)\n",
      "Requirement already satisfied: idna<4,>=2.5 in /Users/tommy/Git/marvelous-databricks-course-tommydejong/.venv/lib/python3.11/site-packages (from requests>=2.32.3->marvelous@ git+https://github.com/end-to-end-mlops-databricks-3/marvelous@0.1.0) (3.10)\n",
      "Requirement already satisfied: urllib3<3,>=1.21.1 in /Users/tommy/Git/marvelous-databricks-course-tommydejong/.venv/lib/python3.11/site-packages (from requests>=2.32.3->marvelous@ git+https://github.com/end-to-end-mlops-databricks-3/marvelous@0.1.0) (2.4.0)\n",
      "Requirement already satisfied: certifi>=2017.4.17 in /Users/tommy/Git/marvelous-databricks-course-tommydejong/.venv/lib/python3.11/site-packages (from requests>=2.32.3->marvelous@ git+https://github.com/end-to-end-mlops-databricks-3/marvelous@0.1.0) (2025.4.26)\n",
      "Note: you may need to restart the kernel to use updated packages.\n"
     ]
    }
   ],
   "source": [
    "%pip install -e ..\n",
    "%pip install marvelous@git+https://github.com/end-to-end-mlops-databricks-3/marvelous@0.1.0"
   ]
  },
  {
   "cell_type": "code",
   "execution_count": 2,
   "metadata": {
    "application/vnd.databricks.v1+cell": {
     "cellMetadata": {
      "byteLimit": 2048000,
      "rowLimit": 10000
     },
     "inputWidgets": {},
     "nuid": "35560d99-c546-47dd-a3cc-712921950a45",
     "showTitle": false,
     "tableResultSettingsMap": {},
     "title": ""
    }
   },
   "outputs": [
    {
     "name": "stderr",
     "output_type": "stream",
     "text": [
      "UsageError: Line magic function `%restart_python` not found.\n"
     ]
    }
   ],
   "source": [
    "%restart_python"
   ]
  },
  {
   "cell_type": "code",
   "execution_count": 3,
   "metadata": {
    "application/vnd.databricks.v1+cell": {
     "cellMetadata": {
      "byteLimit": 2048000,
      "rowLimit": 10000
     },
     "inputWidgets": {},
     "nuid": "c65ee62d-f83c-4952-8734-ee8c4be3e12d",
     "showTitle": false,
     "tableResultSettingsMap": {},
     "title": ""
    }
   },
   "outputs": [
    {
     "ename": "KeyError",
     "evalue": "'PROFILE'",
     "output_type": "error",
     "traceback": [
      "\u001b[31m---------------------------------------------------------------------------\u001b[39m",
      "\u001b[31mKeyError\u001b[39m                                  Traceback (most recent call last)",
      "\u001b[36mCell\u001b[39m\u001b[36m \u001b[39m\u001b[32mIn[3]\u001b[39m\u001b[32m, line 19\u001b[39m\n\u001b[32m     17\u001b[39m \u001b[38;5;28;01mif\u001b[39;00m \u001b[38;5;129;01mnot\u001b[39;00m is_databricks():\n\u001b[32m     18\u001b[39m     load_dotenv()\n\u001b[32m---> \u001b[39m\u001b[32m19\u001b[39m     profile = \u001b[43mos\u001b[49m\u001b[43m.\u001b[49m\u001b[43menviron\u001b[49m\u001b[43m[\u001b[49m\u001b[33;43m\"\u001b[39;49m\u001b[33;43mPROFILE\u001b[39;49m\u001b[33;43m\"\u001b[39;49m\u001b[43m]\u001b[49m\n\u001b[32m     20\u001b[39m     mlflow.set_tracking_uri(\u001b[33mf\u001b[39m\u001b[33m\"\u001b[39m\u001b[33mdatabricks://\u001b[39m\u001b[38;5;132;01m{\u001b[39;00mprofile\u001b[38;5;132;01m}\u001b[39;00m\u001b[33m\"\u001b[39m)\n\u001b[32m     21\u001b[39m     mlflow.set_registry_uri(\u001b[33mf\u001b[39m\u001b[33m\"\u001b[39m\u001b[33mdatabricks-uc://\u001b[39m\u001b[38;5;132;01m{\u001b[39;00mprofile\u001b[38;5;132;01m}\u001b[39;00m\u001b[33m\"\u001b[39m)\n",
      "\u001b[36mFile \u001b[39m\u001b[32m<frozen os>:679\u001b[39m, in \u001b[36m__getitem__\u001b[39m\u001b[34m(self, key)\u001b[39m\n",
      "\u001b[31mKeyError\u001b[39m: 'PROFILE'"
     ]
    }
   ],
   "source": [
    "# Databricks notebook source\n",
    "\n",
    "import mlflow\n",
    "import os\n",
    "import sys\n",
    "sys.path.append('../src/')\n",
    "\n",
    "from pyspark.sql import SparkSession\n",
    "\n",
    "from fifa_players.config import ProjectConfig, Tags\n",
    "from fifa_players.models.basic_model import BasicModel\n",
    "\n",
    "from dotenv import load_dotenv\n",
    "from marvelous.common import is_databricks\n",
    "\n",
    "# COMMAND ----------\n",
    "# If you have DEFAULT profile and are logged in with DEFAULT profile,\n",
    "# skip these lines\n",
    "\n",
    "if not is_databricks():\n",
    "    load_dotenv()\n",
    "    profile = os.environ[\"PROFILE\"]\n",
    "    mlflow.set_tracking_uri(f\"databricks://{profile}\")\n",
    "    mlflow.set_registry_uri(f\"databricks-uc://{profile}\")\n",
    "\n",
    "\n",
    "config = ProjectConfig.from_yaml(config_path=\"../project_config.yml\", env=\"prd\")\n",
    "spark = SparkSession.builder.getOrCreate()\n",
    "tags = Tags(**{\"git_sha\": \"abcd12345\", \"branch\": \"week2\"})\n",
    "\n",
    "# COMMAND ----------\n",
    "# Initialize model with the config path\n",
    "basic_model = BasicModel(config=config, tags=tags, spark=spark)\n",
    "\n",
    "# COMMAND ----------\n",
    "basic_model.load_data()\n",
    "basic_model.prepare_features()\n",
    "\n",
    "# COMMAND ----------\n",
    "# Train + log the model (runs everything including MLflow logging)\n",
    "basic_model.train()\n",
    "basic_model.log_model()\n",
    "\n",
    "# COMMAND ----------\n",
    "run_id = mlflow.search_runs(\n",
    "    experiment_names=[\"/Shared/house-prices-basic\"], filter_string=\"tags.branch='week2'\"\n",
    ").run_id[0]\n",
    "\n",
    "model = mlflow.sklearn.load_model(f\"runs:/{run_id}/lightgbm-pipeline-model\")\n",
    "\n",
    "# COMMAND ----------\n",
    "# Retrieve dataset for the current run\n",
    "basic_model.retrieve_current_run_dataset()\n",
    "\n",
    "# COMMAND ----------\n",
    "# Retrieve metadata for the current run\n",
    "basic_model.retrieve_current_run_metadata()\n",
    "\n",
    "# COMMAND ----------\n",
    "# Register model\n",
    "basic_model.register_model()\n",
    "\n",
    "# COMMAND ----------\n",
    "# Predict on the test set\n",
    "\n",
    "test_set = spark.table(f\"{config.catalog_name}.{config.schema_name}.test_set\").limit(10)\n",
    "\n",
    "X_test = test_set.drop(config.target).toPandas()\n",
    "\n",
    "predictions_df = basic_model.load_latest_model_and_predict(X_test)\n",
    "# COMMAND ----------"
   ]
  }
 ],
 "metadata": {
  "application/vnd.databricks.v1+notebook": {
   "computePreferences": null,
   "dashboards": [],
   "environmentMetadata": {
    "base_environment": "",
    "environment_version": "2"
   },
   "inputWidgetPreferences": null,
   "language": "python",
   "notebookMetadata": {
    "pythonIndentUnit": 4
   },
   "notebookName": "week2_train_register_basic_model.py",
   "widgets": {}
  },
  "kernelspec": {
   "display_name": ".venv",
   "language": "python",
   "name": "python3"
  },
  "language_info": {
   "codemirror_mode": {
    "name": "ipython",
    "version": 3
   },
   "file_extension": ".py",
   "mimetype": "text/x-python",
   "name": "python",
   "nbconvert_exporter": "python",
   "pygments_lexer": "ipython3",
   "version": "3.11.12"
  }
 },
 "nbformat": 4,
 "nbformat_minor": 0
}
