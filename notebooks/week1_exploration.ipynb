{
 "cells": [
  {
   "cell_type": "code",
   "execution_count": 1,
   "metadata": {
    "application/vnd.databricks.v1+cell": {
     "cellMetadata": {
      "byteLimit": 2048000,
      "rowLimit": 10000
     },
     "inputWidgets": {},
     "nuid": "e0ccdb76-0fb6-4411-a1ef-60ccd813b240",
     "showTitle": false,
     "tableResultSettingsMap": {},
     "title": ""
    }
   },
   "outputs": [],
   "source": [
    "%load_ext autoreload\n",
    "%autoreload 2"
   ]
  },
  {
   "cell_type": "code",
   "execution_count": 2,
   "metadata": {
    "application/vnd.databricks.v1+cell": {
     "cellMetadata": {
      "byteLimit": 2048000,
      "rowLimit": 10000
     },
     "inputWidgets": {},
     "nuid": "26f51374-c935-4dd2-9e1e-e9037620863f",
     "showTitle": false,
     "tableResultSettingsMap": {},
     "title": ""
    }
   },
   "outputs": [
    {
     "name": "stdout",
     "output_type": "stream",
     "text": [
      "\u001b[32m2025-05-10 10:23:04\u001b[0m | \u001b[1mINFO\u001b[0m | \u001b[36m2428171464\u001b[0m:\u001b[36m<module>\u001b[0m - \u001b[1mConfiguration loaded:\u001b[0m\n",
      "\u001b[32m2025-05-10 10:23:04\u001b[0m | \u001b[1mINFO\u001b[0m | \u001b[36m2428171464\u001b[0m:\u001b[36m<module>\u001b[0m - \u001b[1m!!python/object:mlops_course.config.ProjectConfig\n",
      "__dict__:\n",
      "  cat_features:\n",
      "  - name\n",
      "  - full_name\n",
      "  - birth_date\n",
      "  - positions\n",
      "  - nationality\n",
      "  - preferred_foot\n",
      "  - body_type\n",
      "  - national_team\n",
      "  - national_team_position\n",
      "  catalog_name: mlops_dev\n",
      "  num_features:\n",
      "  - age\n",
      "  - height_cm\n",
      "  - weight_kgs\n",
      "  - overall_rating\n",
      "  - potential\n",
      "  - wage_euro\n",
      "  - international_rep\n",
      "  - weak_foot\n",
      "  - skill_moves\n",
      "  - release_clause_euro\n",
      "  - national_rating\n",
      "  - national_jersey_number\n",
      "  - crossing\n",
      "  - finishing\n",
      "  - heading_accuracy\n",
      "  - short_passing\n",
      "  - volleys\n",
      "  - dribbling\n",
      "  - curve\n",
      "  - freekick_accuracy\n",
      "  - long_passing\n",
      "  - ball_control\n",
      "  - acceleration\n",
      "  - sprint_speed\n",
      "  - agility\n",
      "  - reactions\n",
      "  - balance\n",
      "  - shot_power\n",
      "  - jumping\n",
      "  - stamina\n",
      "  - strength\n",
      "  - long_shots\n",
      "  - aggression\n",
      "  - interceptions\n",
      "  - positioning\n",
      "  - vision\n",
      "  - penalties\n",
      "  - composure\n",
      "  - marking\n",
      "  - standing_tackle\n",
      "  - sliding_tackle\n",
      "  parameters:\n",
      "    learning_rate: 0.01\n",
      "    max_depth: 6\n",
      "    n_estimators: 1000\n",
      "  schema_name: zinutomm\n",
      "  target: value_euro\n",
      "__pydantic_extra__: null\n",
      "__pydantic_fields_set__: !!set\n",
      "  cat_features: null\n",
      "  catalog_name: null\n",
      "  num_features: null\n",
      "  parameters: null\n",
      "  schema_name: null\n",
      "  target: null\n",
      "__pydantic_private__: null\n",
      "\u001b[0m\n"
     ]
    }
   ],
   "source": [
    "from loguru import logger\n",
    "import yaml\n",
    "import sys\n",
    "from pyspark.sql import SparkSession\n",
    "import pandas as pd\n",
    "\n",
    "from mlops_course.config import ProjectConfig\n",
    "from mlops_course.data_processor import DataProcessor\n",
    "from marvelous.logging import setup_logging\n",
    "from marvelous.timer import Timer\n",
    "\n",
    "config = ProjectConfig.from_yaml(config_path=\"../project_config.yml\", env=\"dev\")\n",
    "\n",
    "setup_logging(log_file=\"logs/marvelous-1.log\")\n",
    "\n",
    "logger.info(\"Configuration loaded:\")\n",
    "logger.info(yaml.dump(config, default_flow_style=False))"
   ]
  },
  {
   "cell_type": "code",
   "execution_count": 3,
   "metadata": {},
   "outputs": [
    {
     "name": "stdout",
     "output_type": "stream",
     "text": [
      "['name', 'full_name', 'birth_date', 'age', 'height_cm', 'weight_kgs', 'positions', 'nationality', 'overall_rating', 'potential', 'value_euro', 'wage_euro', 'preferred_foot', 'international_reputation(1-5)', 'weak_foot(1-5)', 'skill_moves(1-5)', 'body_type', 'release_clause_euro', 'national_team', 'national_rating', 'national_team_position', 'national_jersey_number', 'crossing', 'finishing', 'heading_accuracy', 'short_passing', 'volleys', 'dribbling', 'curve', 'freekick_accuracy', 'long_passing', 'ball_control', 'acceleration', 'sprint_speed', 'agility', 'reactions', 'balance', 'shot_power', 'jumping', 'stamina', 'strength', 'long_shots', 'aggression', 'interceptions', 'positioning', 'vision', 'penalties', 'composure', 'marking', 'standing_tackle', 'sliding_tackle']\n"
     ]
    }
   ],
   "source": [
    "# Load the fifa players dataset\n",
    "spark = SparkSession.builder.getOrCreate()\n",
    "\n",
    "filepath = \"../data/fifa_players.csv\"\n",
    "\n",
    "# Load the data\n",
    "df = pd.read_csv(filepath)\n",
    "print(df.columns.values.tolist())\n"
   ]
  },
  {
   "cell_type": "code",
   "execution_count": 4,
   "metadata": {},
   "outputs": [
    {
     "name": "stdout",
     "output_type": "stream",
     "text": [
      "['name', 'full_name', 'birth_date', 'age', 'height_cm', 'weight_kgs', 'positions', 'nationality', 'overall_rating', 'potential', 'value_euro', 'wage_euro', 'preferred_foot', 'international_rep', 'weak_foot', 'skill_moves', 'body_type', 'release_clause_euro', 'national_team', 'national_rating', 'national_team_position', 'national_jersey_number', 'crossing', 'finishing', 'heading_accuracy', 'short_passing', 'volleys', 'dribbling', 'curve', 'freekick_accuracy', 'long_passing', 'ball_control', 'acceleration', 'sprint_speed', 'agility', 'reactions', 'balance', 'shot_power', 'jumping', 'stamina', 'strength', 'long_shots', 'aggression', 'interceptions', 'positioning', 'vision', 'penalties', 'composure', 'marking', 'standing_tackle', 'sliding_tackle']\n",
      "\u001b[32m2025-05-10 10:23:04\u001b[0m | \u001b[1mINFO\u001b[0m | \u001b[36m3306976369\u001b[0m:\u001b[36m<module>\u001b[0m - \u001b[1mData preprocessing: Elapsed time: 0.0564 seconds\u001b[0m\n"
     ]
    }
   ],
   "source": [
    "# Load the fifa players dataset\n",
    "with Timer() as preprocess_timer:\n",
    "    # Initialize DataProcessor\n",
    "    data_processor = DataProcessor(df, config, spark)\n",
    "\n",
    "    # Preprocess the data\n",
    "    data_processor.preprocess()\n",
    "\n",
    "logger.info(f\"Data preprocessing: {preprocess_timer}\")"
   ]
  },
  {
   "cell_type": "code",
   "execution_count": 5,
   "metadata": {},
   "outputs": [
    {
     "name": "stdout",
     "output_type": "stream",
     "text": [
      "\u001b[32m2025-05-10 10:23:04\u001b[0m | \u001b[1mINFO\u001b[0m | \u001b[36m2594902236\u001b[0m:\u001b[36m<module>\u001b[0m - \u001b[1mTraining set shape: %s\u001b[0m\n",
      "\u001b[32m2025-05-10 10:23:04\u001b[0m | \u001b[1mINFO\u001b[0m | \u001b[36m2594902236\u001b[0m:\u001b[36m<module>\u001b[0m - \u001b[1mTest set shape: %s\u001b[0m\n"
     ]
    }
   ],
   "source": [
    "# Split the data\n",
    "X_train, X_test = data_processor.split_data()\n",
    "logger.info(\"Training set shape: %s\", X_train.shape)\n",
    "logger.info(\"Test set shape: %s\", X_test.shape)"
   ]
  },
  {
   "cell_type": "code",
   "execution_count": 6,
   "metadata": {},
   "outputs": [
    {
     "name": "stdout",
     "output_type": "stream",
     "text": [
      "\u001b[32m2025-05-10 10:23:04\u001b[0m | \u001b[1mINFO\u001b[0m | \u001b[36m737852268\u001b[0m:\u001b[36m<module>\u001b[0m - \u001b[1mSaving data to catalog\u001b[0m\n",
      "\u001b[32m2025-05-10 10:24:01\u001b[0m | \u001b[1mINFO\u001b[0m | \u001b[36m737852268\u001b[0m:\u001b[36m<module>\u001b[0m - \u001b[1mEnable change data feed\u001b[0m\n"
     ]
    }
   ],
   "source": [
    "# Save to catalog\n",
    "logger.info(\"Saving data to catalog\")\n",
    "data_processor.save_to_catalog(X_train, X_test)\n",
    "\n",
    "# Enable change data feed (only once!)\n",
    "logger.info(\"Enable change data feed\")\n",
    "data_processor.enable_change_data_feed()"
   ]
  }
 ],
 "metadata": {
  "application/vnd.databricks.v1+notebook": {
   "computePreferences": null,
   "dashboards": [],
   "environmentMetadata": {
    "base_environment": "",
    "environment_version": "2"
   },
   "inputWidgetPreferences": null,
   "language": "python",
   "notebookMetadata": {
    "pythonIndentUnit": 4
   },
   "notebookName": "week1_exploration",
   "widgets": {}
  },
  "kernelspec": {
   "display_name": ".venv",
   "language": "python",
   "name": "python3"
  },
  "language_info": {
   "codemirror_mode": {
    "name": "ipython",
    "version": 3
   },
   "file_extension": ".py",
   "mimetype": "text/x-python",
   "name": "python",
   "nbconvert_exporter": "python",
   "pygments_lexer": "ipython3",
   "version": "3.11.12"
  }
 },
 "nbformat": 4,
 "nbformat_minor": 0
}
